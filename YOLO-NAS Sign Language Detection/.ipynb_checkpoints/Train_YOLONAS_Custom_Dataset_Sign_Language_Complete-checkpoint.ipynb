{
 "cells": [
  {
   "cell_type": "markdown",
   "metadata": {
    "id": "KqYNaFs1zzuH"
   },
   "source": [
    "#**🚨 Before Running the Script Please Make Sure you have selected the Run Time as GPU**"
   ]
  },
  {
   "cell_type": "markdown",
   "metadata": {
    "id": "LA9VI44c_Dex"
   },
   "source": [
    "#**Step 01: Installing the Packages**"
   ]
  },
  {
   "cell_type": "code",
   "execution_count": null,
   "metadata": {
    "id": "IrOIVb4g-9LV"
   },
   "outputs": [],
   "source": [
    "%%capture\n",
    "!pip install super-gradients==3.1.0\n",
    "!pip install imutils\n",
    "!pip install roboflow\n",
    "!pip install pytube --upgrade"
   ]
  },
  {
   "cell_type": "markdown",
   "metadata": {
    "id": "1GFVbqbnzlEP"
   },
   "source": [
    "#**🚨 Restart the Run Time**"
   ]
  },
  {
   "cell_type": "markdown",
   "metadata": {
    "id": "8vj6ZhW5_ZiD"
   },
   "source": [
    "#**Step 02: Importing all the required libraries**"
   ]
  },
  {
   "cell_type": "code",
   "execution_count": null,
   "metadata": {
    "colab": {
     "base_uri": "https://localhost:8080/"
    },
    "id": "gPnhQ5DQ_gTu",
    "outputId": "bc71003c-0dcb-4576-ff2d-b71b237c7901"
   },
   "outputs": [],
   "source": [
    "from super_gradients.training import Trainer\n",
    "from super_gradients.training import dataloaders\n",
    "from super_gradients.training.dataloaders.dataloaders import coco_detection_yolo_format_train, coco_detection_yolo_format_val"
   ]
  },
  {
   "cell_type": "code",
   "execution_count": null,
   "metadata": {
    "id": "aiOenmAUA-2h"
   },
   "outputs": [],
   "source": [
    "from IPython.display import clear_output\n"
   ]
  },
  {
   "cell_type": "code",
   "execution_count": null,
   "metadata": {
    "id": "Zy94Z08FCC9R"
   },
   "outputs": [],
   "source": [
    "from super_gradients.training.losses import PPYoloELoss\n",
    "from super_gradients.training.metrics import DetectionMetrics_050\n",
    "from super_gradients.training.models.detection_models.pp_yolo_e import PPYoloEPostPredictionCallback\n",
    "\n"
   ]
  },
  {
   "cell_type": "code",
   "execution_count": null,
   "metadata": {
    "id": "vI9gsW6MJm9Y"
   },
   "outputs": [],
   "source": [
    "from super_gradients.training import models\n"
   ]
  },
  {
   "cell_type": "markdown",
   "metadata": {
    "id": "2xSiKzfx_t9q"
   },
   "source": [
    "#**Step 03: Setting the checkpoint directory and experiment name | Instantiated the trainer**"
   ]
  },
  {
   "cell_type": "code",
   "execution_count": null,
   "metadata": {
    "id": "caMG2wHQ_huB"
   },
   "outputs": [],
   "source": [
    "CHECKPOINT_DIR = 'checkpoints2'\n",
    "trainer = Trainer(experiment_name='sign_yolonas_run2', ckpt_root_dir=CHECKPOINT_DIR)"
   ]
  },
  {
   "cell_type": "markdown",
   "metadata": {
    "id": "63PxbjJi_4jr"
   },
   "source": [
    "#**Step 04: Exporting the Dataset from Roboflow into the Google Colab Notebook**"
   ]
  },
  {
   "cell_type": "code",
   "execution_count": null,
   "metadata": {
    "colab": {
     "base_uri": "https://localhost:8080/"
    },
    "id": "fHu6ewi2AABm",
    "outputId": "307c28b5-bfd1-4238-b86e-ed4033c79abf"
   },
   "outputs": [],
   "source": [
    "!pip install roboflow\n",
    "\n",
    "from roboflow import Roboflow\n",
    "rf = Roboflow(api_key=\"IuYv6KOKs5p62rFSLvGa\")\n",
    "project = rf.workspace(\"david-lee-d0rhs\").project(\"american-sign-language-letters\")\n",
    "dataset = project.version(6).download(\"yolov5\")\n"
   ]
  },
  {
   "cell_type": "markdown",
   "metadata": {
    "id": "ELYsCvoQANtB"
   },
   "source": [
    "#**Step 05: Load your dataset parameters into a dictionary**"
   ]
  },
  {
   "cell_type": "markdown",
   "metadata": {
    "id": "-SUct0GrAUV6"
   },
   "source": [
    "You'll need to load your dataset parameters into a dictionary, specifically defining:\n",
    "\n",
    "- path to the parent directory where your data lives\n",
    "- the child directory names for training, validation, and test (if you have testing set) images and labels\n",
    "- class names"
   ]
  },
  {
   "cell_type": "code",
   "execution_count": null,
   "metadata": {
    "id": "l8caxCpbASNj"
   },
   "outputs": [],
   "source": [
    "dataset_params = {\n",
    "    'data_dir':'/content/American-Sign-Language-Letters-6',\n",
    "    'train_images_dir':'train/images',\n",
    "    'train_labels_dir':'train/labels',\n",
    "    'val_images_dir':'valid/images',\n",
    "    'val_labels_dir':'valid/labels',\n",
    "    'test_images_dir':'test/images',\n",
    "    'test_labels_dir':'test/labels',\n",
    "    'classes': ['A', 'B', 'C', 'D', 'E', 'F', 'G','H', 'I', 'J', 'K', 'L','M','N','O', 'P', 'Q', 'R', 'S', 'T', 'U',  'V', 'W', 'X', 'Y', 'Z']\n",
    "}\n",
    "\n"
   ]
  },
  {
   "cell_type": "markdown",
   "metadata": {
    "id": "hciE-i_lA4zb"
   },
   "source": [
    "#**Step 06: Pass the values for `dataset_params` into the `dataset_params` argument as shown below.**"
   ]
  },
  {
   "cell_type": "code",
   "execution_count": null,
   "metadata": {
    "colab": {
     "base_uri": "https://localhost:8080/"
    },
    "id": "AiptliRUAq7Q",
    "outputId": "51a0f26e-3735-4cc3-f058-d1ac7433cd32"
   },
   "outputs": [],
   "source": [
    "train_data = coco_detection_yolo_format_train(\n",
    "    dataset_params={\n",
    "        'data_dir': dataset_params['data_dir'],\n",
    "        'images_dir': dataset_params['train_images_dir'],\n",
    "        'labels_dir': dataset_params['train_labels_dir'],\n",
    "        'classes': dataset_params['classes']\n",
    "    },\n",
    "    dataloader_params={\n",
    "        'batch_size':16,\n",
    "        'num_workers':2\n",
    "    }\n",
    ")\n",
    "\n",
    "val_data = coco_detection_yolo_format_val(\n",
    "    dataset_params={\n",
    "        'data_dir': dataset_params['data_dir'],\n",
    "        'images_dir': dataset_params['val_images_dir'],\n",
    "        'labels_dir': dataset_params['val_labels_dir'],\n",
    "        'classes': dataset_params['classes']\n",
    "    },\n",
    "    dataloader_params={\n",
    "        'batch_size':16,\n",
    "        'num_workers':2\n",
    "    }\n",
    ")\n",
    "\n",
    "test_data = coco_detection_yolo_format_val(\n",
    "    dataset_params={\n",
    "        'data_dir': dataset_params['data_dir'],\n",
    "        'images_dir': dataset_params['test_images_dir'],\n",
    "        'labels_dir': dataset_params['test_labels_dir'],\n",
    "        'classes': dataset_params['classes']\n",
    "    },\n",
    "    dataloader_params={\n",
    "        'batch_size':16,\n",
    "        'num_workers':2\n",
    "    }\n",
    ")\n",
    "\n",
    "clear_output()"
   ]
  },
  {
   "cell_type": "markdown",
   "metadata": {
    "id": "RlzcTycuBN96"
   },
   "source": [
    "#**Step 07: Inspect the Dataset Defined Earlier**"
   ]
  },
  {
   "cell_type": "code",
   "execution_count": null,
   "metadata": {
    "colab": {
     "base_uri": "https://localhost:8080/"
    },
    "id": "n5d34uc6BBxz",
    "outputId": "1a2b4aa6-2ecd-4f6a-cb36-86fdb2a78192"
   },
   "outputs": [],
   "source": [
    "train_data.dataset.transforms"
   ]
  },
  {
   "cell_type": "code",
   "execution_count": null,
   "metadata": {
    "colab": {
     "base_uri": "https://localhost:8080/"
    },
    "id": "HmSxlyhMBSsI",
    "outputId": "be929cff-1475-422f-8469-a43e79d692c0"
   },
   "outputs": [],
   "source": [
    "train_data.dataset.dataset_params['transforms'][1]"
   ]
  },
  {
   "cell_type": "code",
   "execution_count": null,
   "metadata": {
    "id": "jB92edn6BYE_"
   },
   "outputs": [],
   "source": [
    "train_data.dataset.dataset_params['transforms'][1]['DetectionRandomAffine']['degrees'] = 10.42"
   ]
  },
  {
   "cell_type": "markdown",
   "metadata": {
    "id": "Mxhxz9S3Bc_p"
   },
   "source": [
    "#**Step 08: Plot a batch of training data with their augmentations applied to see what they look like**"
   ]
  },
  {
   "cell_type": "code",
   "execution_count": null,
   "metadata": {
    "colab": {
     "base_uri": "https://localhost:8080/",
     "height": 1000
    },
    "id": "pMcKP5srBZKN",
    "outputId": "6fe84569-6f86-4b5d-f5e7-f2fda5ef173a"
   },
   "outputs": [],
   "source": [
    "train_data.dataset.plot()"
   ]
  },
  {
   "cell_type": "markdown",
   "metadata": {
    "id": "KdteZXfTBqu8"
   },
   "source": [
    "#**Step 09: Instantiating the model**"
   ]
  },
  {
   "cell_type": "markdown",
   "metadata": {
    "id": "ZHAZf-u-B01b"
   },
   "source": [
    "\n",
    "You saw how to instantiate the model for inference earlier. \n",
    "\n",
    "Below is how to instantiate the model for finetuning. Note you need to add the `num_classes` argument here.\n",
    "\n",
    "Note, for this tutorial we are using `yolo_nas_s`, but SuperGradients has two other flavors of YOLONAS available to you: `yolo_nas_m` and `yolo_nas_l`."
   ]
  },
  {
   "cell_type": "code",
   "execution_count": null,
   "metadata": {
    "colab": {
     "base_uri": "https://localhost:8080/",
     "height": 138,
     "referenced_widgets": [
      "5f806c88cb72425db2292b5df49ce5ad",
      "12b2b95ab10b4c1cb35556b4c9c45970",
      "7bc0cdfddb0442dd86ae4d95f4b46604",
      "59a9363183644d639d2e06773867a085",
      "7cf024850b174203a4c49e0b0e922f9d",
      "276af401211d416f80021ba2e8db6d41",
      "95862c563eaa4e57a28a477b73eda437",
      "38f2687526aa487084944c3205c498cc",
      "8c3c4f986f684492a45e17af825475bd",
      "ff72580f12404dd8a59c8ad77bbf9699",
      "9f5956eb58104fd6b0d946361f5c5f84"
     ]
    },
    "id": "UanFJaQKBz2B",
    "outputId": "832053ee-6183-409b-c5b2-5813de5fb559"
   },
   "outputs": [],
   "source": [
    "model = models.get('yolo_nas_s', \n",
    "                   num_classes=len(dataset_params['classes']), \n",
    "                   pretrained_weights=\"coco\"\n",
    "                   )"
   ]
  },
  {
   "cell_type": "markdown",
   "metadata": {
    "id": "f6kMerfuCKBb"
   },
   "source": [
    "#**Step 10: 📊 Define metrics and training parameters**\n"
   ]
  },
  {
   "cell_type": "markdown",
   "metadata": {
    "id": "vPMB5je6CYn1"
   },
   "source": [
    "We need to define the training parameters for your training run. \n",
    "\n",
    "Full details about the training parameters can be found [here](https://github.com/Deci-AI/super-gradients/blob/master/src/super_gradients/recipes/training_hyperparams/default_train_params.yaml).\n",
    "\n",
    "\n",
    "### 🚨 There are a few **mandatory** arguments that we must define for training params 🚨\n",
    "\n",
    "- `max_epochs` - Max number of training epochs\n",
    "\n",
    "- `loss` - the loss function you want to use\n",
    "\n",
    "- `optimizer` - Optimizer you will be using\n",
    "\n",
    "- `train_metrics_list` - Metrics to log during training\n",
    "\n",
    "- `valid_metrics_list` - Metrics to log during training\n",
    "\n",
    "- `metric_to_watch` - metric which the model checkpoint will be saved according to\n",
    "\n",
    "We can choose from a variety of `optimizer`'s such as: Adam, AdamW, SGD, Lion, or RMSProps. If you choose to change the defualt parameters of these optimizrs you pass them into `optimizer_params`. \n"
   ]
  },
  {
   "cell_type": "code",
   "execution_count": null,
   "metadata": {
    "id": "xdPgBDSSCTkp"
   },
   "outputs": [],
   "source": [
    "train_params = {\n",
    "    # ENABLING SILENT MODE\n",
    "    'silent_mode': True,\n",
    "    \"average_best_models\":True,\n",
    "    \"warmup_mode\": \"linear_epoch_step\",\n",
    "    \"warmup_initial_lr\": 1e-6,\n",
    "    \"lr_warmup_epochs\": 3,\n",
    "    \"initial_lr\": 5e-4,\n",
    "    \"lr_mode\": \"cosine\",\n",
    "    \"cosine_final_lr_ratio\": 0.1,\n",
    "    \"optimizer\": \"Adam\",\n",
    "    \"optimizer_params\": {\"weight_decay\": 0.0001},\n",
    "    \"zero_weight_decay_on_bias_and_bn\": True,\n",
    "    \"ema\": True,\n",
    "    \"ema_params\": {\"decay\": 0.9, \"decay_type\": \"threshold\"},\n",
    "    # ONLY TRAINING FOR 10 EPOCHS FOR THIS EXAMPLE NOTEBOOK\n",
    "    \"max_epochs\": 25,\n",
    "    \"mixed_precision\": True,\n",
    "    \"loss\": PPYoloELoss(\n",
    "        use_static_assigner=False,\n",
    "        # NOTE: num_classes needs to be defined here\n",
    "        num_classes=len(dataset_params['classes']),\n",
    "        reg_max=16\n",
    "    ),\n",
    "    \"valid_metrics_list\": [\n",
    "        DetectionMetrics_050(\n",
    "            score_thres=0.1,\n",
    "            top_k_predictions=300,\n",
    "            # NOTE: num_classes needs to be defined here\n",
    "            num_cls=len(dataset_params['classes']),\n",
    "            normalize_targets=True,\n",
    "            post_prediction_callback=PPYoloEPostPredictionCallback(\n",
    "                score_threshold=0.01,\n",
    "                nms_top_k=1000,\n",
    "                max_predictions=300,\n",
    "                nms_threshold=0.7\n",
    "            )\n",
    "        )\n",
    "    ],\n",
    "    \"metric_to_watch\": 'mAP@0.50'\n",
    "}"
   ]
  },
  {
   "cell_type": "markdown",
   "metadata": {
    "id": "msdWxrVMDGji"
   },
   "source": [
    "#**Step 11: Download the Demo Videos**"
   ]
  },
  {
   "cell_type": "code",
   "execution_count": null,
   "metadata": {
    "colab": {
     "base_uri": "https://localhost:8080/"
    },
    "id": "ArXeDFXq-DGn",
    "outputId": "b19aa84e-97a3-4055-f769-f6faab274287"
   },
   "outputs": [],
   "source": [
    "!gdown \"https://drive.google.com/uc?id=1bLlfh9gr6JxE9Wacw4xgv5FNijA7j9GZ&confirm=t\""
   ]
  },
  {
   "cell_type": "code",
   "execution_count": null,
   "metadata": {
    "colab": {
     "base_uri": "https://localhost:8080/"
    },
    "id": "O3E9ECpo-DJ3",
    "outputId": "7b2bd089-74d4-47b8-b95d-ffcf55b53e81"
   },
   "outputs": [],
   "source": [
    "!gdown \"https://drive.google.com/uc?id=1kju9OOo05c5XTfrKuLvsZcxu_NPloQk_&confirm=t\""
   ]
  },
  {
   "cell_type": "markdown",
   "metadata": {
    "id": "riHN7oz9CugX"
   },
   "source": [
    "#**Step 12: 🦾 Training the model**\n",
    "\n",
    "You've covered a lot of ground so far:\n",
    "\n",
    "✅ Instantiated the trainer\n",
    "\n",
    "✅ Defined your dataset parameters and dataloaders\n",
    "\n",
    "✅ Instantiated a model\n",
    "\n",
    "✅ Set up your training parameters\n",
    "\n",
    "### ⏳ Now, its time to train a model \n",
    "\n",
    "Training a model using a SuperGradients is done using the `trainer`.\n",
    "\n",
    "It's as easy as..."
   ]
  },
  {
   "cell_type": "code",
   "execution_count": null,
   "metadata": {
    "colab": {
     "base_uri": "https://localhost:8080/"
    },
    "id": "d_lFrW51BhYo",
    "outputId": "c97fd372-bd47-4d19-f69a-8afa72bc2734"
   },
   "outputs": [],
   "source": [
    "trainer.train(model=model, \n",
    "              training_params=train_params, \n",
    "              train_loader=train_data, \n",
    "              valid_loader=val_data)"
   ]
  },
  {
   "cell_type": "markdown",
   "metadata": {
    "id": "VWrhOdu7Mxdi"
   },
   "source": [
    "#**Step 13: 🏆 Get the best trained model**"
   ]
  },
  {
   "cell_type": "code",
   "execution_count": null,
   "metadata": {
    "colab": {
     "base_uri": "https://localhost:8080/"
    },
    "id": "CJQBe5WdDYs-",
    "outputId": "b4a5f3e6-4ab8-48c6-8ead-b676ef647c1c"
   },
   "outputs": [],
   "source": [
    "best_model = models.get('yolo_nas_s',\n",
    "                        num_classes=len(dataset_params['classes']),\n",
    "                        checkpoint_path=\"checkpoints2/sign_yolonas_run2/ckpt_best.pth\")"
   ]
  },
  {
   "cell_type": "markdown",
   "metadata": {
    "id": "j-qT7GHNNiS5"
   },
   "source": [
    "#**Step 14: 🧐 Evaluating the best trained model on the test set**"
   ]
  },
  {
   "cell_type": "code",
   "execution_count": null,
   "metadata": {
    "colab": {
     "base_uri": "https://localhost:8080/"
    },
    "id": "YcuZNYAzNgPH",
    "outputId": "a603ecd1-3ea8-4775-896e-20204e44b20a"
   },
   "outputs": [],
   "source": [
    "trainer.test(model=best_model,\n",
    "            test_loader=test_data,\n",
    "            test_metrics_list=DetectionMetrics_050(score_thres=0.1, \n",
    "                                                   top_k_predictions=300, \n",
    "                                                   num_cls=len(dataset_params['classes']), \n",
    "                                                   normalize_targets=True, \n",
    "                                                   post_prediction_callback=PPYoloEPostPredictionCallback(score_threshold=0.01, \n",
    "                                                                                                          nms_top_k=1000, \n",
    "                                                                                                          max_predictions=300,                                                                              \n",
    "                                                                                                          nms_threshold=0.7)\n",
    "                                                  ))"
   ]
  },
  {
   "cell_type": "markdown",
   "metadata": {
    "id": "tFtxr3jfNq-T"
   },
   "source": [
    "#**Step 15: 🔮 Predicting with the best model**\n",
    "\n"
   ]
  },
  {
   "cell_type": "code",
   "execution_count": null,
   "metadata": {
    "colab": {
     "background_save": true,
     "base_uri": "https://localhost:8080/",
     "height": 1000
    },
    "id": "5CFS5fxGNoJO",
    "outputId": "a0c343b2-655f-4046-bd09-4bd22a35255b"
   },
   "outputs": [],
   "source": [
    "img_url = '/content/American-Sign-Language-Letters-6/valid/images/B5_jpg.rf.e1802440715c4bbb6de84d150dfe73b8.jpg'\n",
    "best_model.predict(img_url).show()"
   ]
  },
  {
   "cell_type": "markdown",
   "metadata": {
    "id": "AndGR9tmcscm"
   },
   "source": [
    "#**Step 16: Testing on Video 1**"
   ]
  },
  {
   "cell_type": "code",
   "execution_count": null,
   "metadata": {
    "id": "DNV5L1Z3Nzg0"
   },
   "outputs": [],
   "source": [
    "input_video_path = f\"/content/demonew1.mp4\"\n",
    "output_video_path = \"detections.mp4\""
   ]
  },
  {
   "cell_type": "code",
   "execution_count": null,
   "metadata": {
    "id": "B8YhhjpROBCZ"
   },
   "outputs": [],
   "source": [
    "import torch\n",
    "device = 'cuda' if torch.cuda.is_available() else \"cpu\""
   ]
  },
  {
   "cell_type": "code",
   "execution_count": null,
   "metadata": {
    "colab": {
     "base_uri": "https://localhost:8080/"
    },
    "id": "P2lSX_LuOBFY",
    "outputId": "8ec1c6fe-c828-4bcc-e88d-fd702d449a2c"
   },
   "outputs": [],
   "source": [
    "best_model.to(device).predict(input_video_path).save(output_video_path)"
   ]
  },
  {
   "cell_type": "markdown",
   "metadata": {
    "id": "vjF4U-gsajOE"
   },
   "source": [
    "#**Display the Output Video**"
   ]
  },
  {
   "cell_type": "code",
   "execution_count": null,
   "metadata": {
    "id": "XUv3BeouOHBN"
   },
   "outputs": [],
   "source": [
    "!rm '/content/result_compressed.mp4'"
   ]
  },
  {
   "cell_type": "code",
   "execution_count": null,
   "metadata": {
    "colab": {
     "base_uri": "https://localhost:8080/",
     "height": 247
    },
    "id": "Hkc-Jwj-aqzU",
    "outputId": "a2f897be-febd-441f-fd77-fb7946e2eec3"
   },
   "outputs": [],
   "source": [
    "from IPython.display import HTML\n",
    "from base64 import b64encode\n",
    "import os\n",
    "\n",
    "# Input video path\n",
    "save_path = '/content/detections.mp4'\n",
    "\n",
    "# Compressed video path\n",
    "compressed_path = \"/content/result_compressed.mp4\"\n",
    "\n",
    "os.system(f\"ffmpeg -i {save_path} -vcodec libx264 {compressed_path}\")\n",
    "\n",
    "# Show video\n",
    "mp4 = open(compressed_path,'rb').read()\n",
    "data_url = \"data:video/mp4;base64,\" + b64encode(mp4).decode()\n",
    "HTML(\"\"\"\n",
    "<video width=400 controls>\n",
    "      <source src=\"%s\" type=\"video/mp4\">\n",
    "</video>\n",
    "\"\"\" % data_url)"
   ]
  },
  {
   "cell_type": "markdown",
   "metadata": {
    "id": "9coK1U08c0nM"
   },
   "source": [
    "#**Step 17: Testing on Video 2**"
   ]
  },
  {
   "cell_type": "code",
   "execution_count": null,
   "metadata": {
    "id": "EQg3eojHcgQ3"
   },
   "outputs": [],
   "source": [
    "input_video_path = f\"/content/demo5.mp4\"\n",
    "output_video_path = \"detections2.mp4\""
   ]
  },
  {
   "cell_type": "code",
   "execution_count": null,
   "metadata": {
    "id": "WOY2o3G3cgVX"
   },
   "outputs": [],
   "source": [
    "import torch\n",
    "device = 'cuda' if torch.cuda.is_available() else \"cpu\""
   ]
  },
  {
   "cell_type": "code",
   "execution_count": null,
   "metadata": {
    "colab": {
     "base_uri": "https://localhost:8080/"
    },
    "id": "QaEiPXNScgY_",
    "outputId": "ccb00a5b-ef6b-46d1-8da6-8037bb1863d9"
   },
   "outputs": [],
   "source": [
    "best_model.to(device).predict(input_video_path).save(output_video_path)"
   ]
  },
  {
   "cell_type": "markdown",
   "metadata": {
    "id": "qcraVqkqc4fq"
   },
   "source": [
    "#**Display the Output Video**"
   ]
  },
  {
   "cell_type": "code",
   "execution_count": null,
   "metadata": {
    "id": "2yhkqTg7cgbn"
   },
   "outputs": [],
   "source": [
    "!rm '/content/result_compressed.mp4'"
   ]
  },
  {
   "cell_type": "code",
   "execution_count": null,
   "metadata": {
    "colab": {
     "base_uri": "https://localhost:8080/",
     "height": 247
    },
    "id": "Id8Xn-Ugasgs",
    "outputId": "78056b6a-c86a-4c9b-92c3-91766c7838a2"
   },
   "outputs": [],
   "source": [
    "from IPython.display import HTML\n",
    "from base64 import b64encode\n",
    "import os\n",
    "\n",
    "# Input video path\n",
    "save_path = '/content/detections2.mp4'\n",
    "\n",
    "# Compressed video path\n",
    "compressed_path = \"/content/result_compressed.mp4\"\n",
    "\n",
    "os.system(f\"ffmpeg -i {save_path} -vcodec libx264 {compressed_path}\")\n",
    "\n",
    "# Show video\n",
    "mp4 = open(compressed_path,'rb').read()\n",
    "data_url = \"data:video/mp4;base64,\" + b64encode(mp4).decode()\n",
    "HTML(\"\"\"\n",
    "<video width=400 controls>\n",
    "      <source src=\"%s\" type=\"video/mp4\">\n",
    "</video>\n",
    "\"\"\" % data_url)"
   ]
  },
  {
   "cell_type": "code",
   "execution_count": null,
   "metadata": {
    "id": "FoR4nWHEv9yt"
   },
   "outputs": [],
   "source": []
  }
 ],
 "metadata": {
  "accelerator": "GPU",
  "colab": {
   "gpuType": "T4",
   "provenance": []
  },
  "gpuClass": "standard",
  "kernelspec": {
   "display_name": "Python 3 (ipykernel)",
   "language": "python",
   "name": "python3"
  },
  "language_info": {
   "codemirror_mode": {
    "name": "ipython",
    "version": 3
   },
   "file_extension": ".py",
   "mimetype": "text/x-python",
   "name": "python",
   "nbconvert_exporter": "python",
   "pygments_lexer": "ipython3",
   "version": "3.9.7"
  },
  "widgets": {
   "application/vnd.jupyter.widget-state+json": {
    "12b2b95ab10b4c1cb35556b4c9c45970": {
     "model_module": "@jupyter-widgets/controls",
     "model_module_version": "1.5.0",
     "model_name": "HTMLModel",
     "state": {
      "_dom_classes": [],
      "_model_module": "@jupyter-widgets/controls",
      "_model_module_version": "1.5.0",
      "_model_name": "HTMLModel",
      "_view_count": null,
      "_view_module": "@jupyter-widgets/controls",
      "_view_module_version": "1.5.0",
      "_view_name": "HTMLView",
      "description": "",
      "description_tooltip": null,
      "layout": "IPY_MODEL_276af401211d416f80021ba2e8db6d41",
      "placeholder": "​",
      "style": "IPY_MODEL_95862c563eaa4e57a28a477b73eda437",
      "value": "100%"
     }
    },
    "276af401211d416f80021ba2e8db6d41": {
     "model_module": "@jupyter-widgets/base",
     "model_module_version": "1.2.0",
     "model_name": "LayoutModel",
     "state": {
      "_model_module": "@jupyter-widgets/base",
      "_model_module_version": "1.2.0",
      "_model_name": "LayoutModel",
      "_view_count": null,
      "_view_module": "@jupyter-widgets/base",
      "_view_module_version": "1.2.0",
      "_view_name": "LayoutView",
      "align_content": null,
      "align_items": null,
      "align_self": null,
      "border": null,
      "bottom": null,
      "display": null,
      "flex": null,
      "flex_flow": null,
      "grid_area": null,
      "grid_auto_columns": null,
      "grid_auto_flow": null,
      "grid_auto_rows": null,
      "grid_column": null,
      "grid_gap": null,
      "grid_row": null,
      "grid_template_areas": null,
      "grid_template_columns": null,
      "grid_template_rows": null,
      "height": null,
      "justify_content": null,
      "justify_items": null,
      "left": null,
      "margin": null,
      "max_height": null,
      "max_width": null,
      "min_height": null,
      "min_width": null,
      "object_fit": null,
      "object_position": null,
      "order": null,
      "overflow": null,
      "overflow_x": null,
      "overflow_y": null,
      "padding": null,
      "right": null,
      "top": null,
      "visibility": null,
      "width": null
     }
    },
    "38f2687526aa487084944c3205c498cc": {
     "model_module": "@jupyter-widgets/base",
     "model_module_version": "1.2.0",
     "model_name": "LayoutModel",
     "state": {
      "_model_module": "@jupyter-widgets/base",
      "_model_module_version": "1.2.0",
      "_model_name": "LayoutModel",
      "_view_count": null,
      "_view_module": "@jupyter-widgets/base",
      "_view_module_version": "1.2.0",
      "_view_name": "LayoutView",
      "align_content": null,
      "align_items": null,
      "align_self": null,
      "border": null,
      "bottom": null,
      "display": null,
      "flex": null,
      "flex_flow": null,
      "grid_area": null,
      "grid_auto_columns": null,
      "grid_auto_flow": null,
      "grid_auto_rows": null,
      "grid_column": null,
      "grid_gap": null,
      "grid_row": null,
      "grid_template_areas": null,
      "grid_template_columns": null,
      "grid_template_rows": null,
      "height": null,
      "justify_content": null,
      "justify_items": null,
      "left": null,
      "margin": null,
      "max_height": null,
      "max_width": null,
      "min_height": null,
      "min_width": null,
      "object_fit": null,
      "object_position": null,
      "order": null,
      "overflow": null,
      "overflow_x": null,
      "overflow_y": null,
      "padding": null,
      "right": null,
      "top": null,
      "visibility": null,
      "width": null
     }
    },
    "59a9363183644d639d2e06773867a085": {
     "model_module": "@jupyter-widgets/controls",
     "model_module_version": "1.5.0",
     "model_name": "HTMLModel",
     "state": {
      "_dom_classes": [],
      "_model_module": "@jupyter-widgets/controls",
      "_model_module_version": "1.5.0",
      "_model_name": "HTMLModel",
      "_view_count": null,
      "_view_module": "@jupyter-widgets/controls",
      "_view_module_version": "1.5.0",
      "_view_name": "HTMLView",
      "description": "",
      "description_tooltip": null,
      "layout": "IPY_MODEL_ff72580f12404dd8a59c8ad77bbf9699",
      "placeholder": "​",
      "style": "IPY_MODEL_9f5956eb58104fd6b0d946361f5c5f84",
      "value": " 73.1M/73.1M [00:00&lt;00:00, 212MB/s]"
     }
    },
    "5f806c88cb72425db2292b5df49ce5ad": {
     "model_module": "@jupyter-widgets/controls",
     "model_module_version": "1.5.0",
     "model_name": "HBoxModel",
     "state": {
      "_dom_classes": [],
      "_model_module": "@jupyter-widgets/controls",
      "_model_module_version": "1.5.0",
      "_model_name": "HBoxModel",
      "_view_count": null,
      "_view_module": "@jupyter-widgets/controls",
      "_view_module_version": "1.5.0",
      "_view_name": "HBoxView",
      "box_style": "",
      "children": [
       "IPY_MODEL_12b2b95ab10b4c1cb35556b4c9c45970",
       "IPY_MODEL_7bc0cdfddb0442dd86ae4d95f4b46604",
       "IPY_MODEL_59a9363183644d639d2e06773867a085"
      ],
      "layout": "IPY_MODEL_7cf024850b174203a4c49e0b0e922f9d"
     }
    },
    "7bc0cdfddb0442dd86ae4d95f4b46604": {
     "model_module": "@jupyter-widgets/controls",
     "model_module_version": "1.5.0",
     "model_name": "FloatProgressModel",
     "state": {
      "_dom_classes": [],
      "_model_module": "@jupyter-widgets/controls",
      "_model_module_version": "1.5.0",
      "_model_name": "FloatProgressModel",
      "_view_count": null,
      "_view_module": "@jupyter-widgets/controls",
      "_view_module_version": "1.5.0",
      "_view_name": "ProgressView",
      "bar_style": "success",
      "description": "",
      "description_tooltip": null,
      "layout": "IPY_MODEL_38f2687526aa487084944c3205c498cc",
      "max": 76688335,
      "min": 0,
      "orientation": "horizontal",
      "style": "IPY_MODEL_8c3c4f986f684492a45e17af825475bd",
      "value": 76688335
     }
    },
    "7cf024850b174203a4c49e0b0e922f9d": {
     "model_module": "@jupyter-widgets/base",
     "model_module_version": "1.2.0",
     "model_name": "LayoutModel",
     "state": {
      "_model_module": "@jupyter-widgets/base",
      "_model_module_version": "1.2.0",
      "_model_name": "LayoutModel",
      "_view_count": null,
      "_view_module": "@jupyter-widgets/base",
      "_view_module_version": "1.2.0",
      "_view_name": "LayoutView",
      "align_content": null,
      "align_items": null,
      "align_self": null,
      "border": null,
      "bottom": null,
      "display": null,
      "flex": null,
      "flex_flow": null,
      "grid_area": null,
      "grid_auto_columns": null,
      "grid_auto_flow": null,
      "grid_auto_rows": null,
      "grid_column": null,
      "grid_gap": null,
      "grid_row": null,
      "grid_template_areas": null,
      "grid_template_columns": null,
      "grid_template_rows": null,
      "height": null,
      "justify_content": null,
      "justify_items": null,
      "left": null,
      "margin": null,
      "max_height": null,
      "max_width": null,
      "min_height": null,
      "min_width": null,
      "object_fit": null,
      "object_position": null,
      "order": null,
      "overflow": null,
      "overflow_x": null,
      "overflow_y": null,
      "padding": null,
      "right": null,
      "top": null,
      "visibility": null,
      "width": null
     }
    },
    "8c3c4f986f684492a45e17af825475bd": {
     "model_module": "@jupyter-widgets/controls",
     "model_module_version": "1.5.0",
     "model_name": "ProgressStyleModel",
     "state": {
      "_model_module": "@jupyter-widgets/controls",
      "_model_module_version": "1.5.0",
      "_model_name": "ProgressStyleModel",
      "_view_count": null,
      "_view_module": "@jupyter-widgets/base",
      "_view_module_version": "1.2.0",
      "_view_name": "StyleView",
      "bar_color": null,
      "description_width": ""
     }
    },
    "95862c563eaa4e57a28a477b73eda437": {
     "model_module": "@jupyter-widgets/controls",
     "model_module_version": "1.5.0",
     "model_name": "DescriptionStyleModel",
     "state": {
      "_model_module": "@jupyter-widgets/controls",
      "_model_module_version": "1.5.0",
      "_model_name": "DescriptionStyleModel",
      "_view_count": null,
      "_view_module": "@jupyter-widgets/base",
      "_view_module_version": "1.2.0",
      "_view_name": "StyleView",
      "description_width": ""
     }
    },
    "9f5956eb58104fd6b0d946361f5c5f84": {
     "model_module": "@jupyter-widgets/controls",
     "model_module_version": "1.5.0",
     "model_name": "DescriptionStyleModel",
     "state": {
      "_model_module": "@jupyter-widgets/controls",
      "_model_module_version": "1.5.0",
      "_model_name": "DescriptionStyleModel",
      "_view_count": null,
      "_view_module": "@jupyter-widgets/base",
      "_view_module_version": "1.2.0",
      "_view_name": "StyleView",
      "description_width": ""
     }
    },
    "ff72580f12404dd8a59c8ad77bbf9699": {
     "model_module": "@jupyter-widgets/base",
     "model_module_version": "1.2.0",
     "model_name": "LayoutModel",
     "state": {
      "_model_module": "@jupyter-widgets/base",
      "_model_module_version": "1.2.0",
      "_model_name": "LayoutModel",
      "_view_count": null,
      "_view_module": "@jupyter-widgets/base",
      "_view_module_version": "1.2.0",
      "_view_name": "LayoutView",
      "align_content": null,
      "align_items": null,
      "align_self": null,
      "border": null,
      "bottom": null,
      "display": null,
      "flex": null,
      "flex_flow": null,
      "grid_area": null,
      "grid_auto_columns": null,
      "grid_auto_flow": null,
      "grid_auto_rows": null,
      "grid_column": null,
      "grid_gap": null,
      "grid_row": null,
      "grid_template_areas": null,
      "grid_template_columns": null,
      "grid_template_rows": null,
      "height": null,
      "justify_content": null,
      "justify_items": null,
      "left": null,
      "margin": null,
      "max_height": null,
      "max_width": null,
      "min_height": null,
      "min_width": null,
      "object_fit": null,
      "object_position": null,
      "order": null,
      "overflow": null,
      "overflow_x": null,
      "overflow_y": null,
      "padding": null,
      "right": null,
      "top": null,
      "visibility": null,
      "width": null
     }
    }
   }
  }
 },
 "nbformat": 4,
 "nbformat_minor": 1
}
